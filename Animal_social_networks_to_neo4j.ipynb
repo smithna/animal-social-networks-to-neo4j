{
 "cells": [
  {
   "cell_type": "code",
   "execution_count": 1,
   "metadata": {},
   "outputs": [],
   "source": [
    "import pandas as pd\n",
    "import requests\n",
    "from pathlib import Path\n",
    "from zipfile import ZipFile\n",
    "from neo4j import GraphDatabase\n",
    "import getpass"
   ]
  },
  {
   "cell_type": "code",
   "execution_count": 2,
   "metadata": {},
   "outputs": [],
   "source": [
    "def download_data(network_name, data_directory):\n",
    "    \"\"\"Download the data from http://networkrepository.com/ and unzip\n",
    "    \n",
    "    Args:\n",
    "        network_name (str): the name of the animal network to get\n",
    "        data_directory (Path): the parent directory in which to save downloads\n",
    "        \n",
    "    Returns:\n",
    "        Path: the child directory where the data was saved\n",
    "    \"\"\"\n",
    "    download_url = 'http://nrvis.com/download/data/asn/{}.zip'\n",
    "    r = requests.get(download_url.format(network_name))\n",
    "    download_dir = data_directory.joinpath(network_name)\n",
    "    Path(download_dir).mkdir(exist_ok=True)\n",
    "    zip_path = download_dir.joinpath(network_name + '.zip')\n",
    "    open(zip_path, 'wb').write(r.content)\n",
    "    with ZipFile(zip_path) as zipObj:\n",
    "        zipObj.extractall(download_dir)\n",
    "    print(f'Downloaded {network_name} to {download_dir}')\n",
    "    return download_dir"
   ]
  },
  {
   "cell_type": "code",
   "execution_count": 3,
   "metadata": {},
   "outputs": [],
   "source": [
    "def load_neo4j(graph_name, source_dir, uri, user, pwd):\n",
    "    \"\"\"Parse file and upload nodes and relationships to Neo4j\n",
    "    \n",
    "    Args:\n",
    "        graph_name (str): name of the graph being loaded\n",
    "        source_dir (Path): Path to data file\n",
    "        uri (str): URI for Neo4j server\n",
    "        user (str): user to load data\n",
    "        pwd (str): password for neo4j\n",
    "    \"\"\"\n",
    "    edges_file = list(source_dir.glob('*.edges'))[0]\n",
    "    edges_df = pd.read_csv(edges_file, sep=' ', header=None)\n",
    "    nodes = pd.concat([edges_df[0], edges_df[1]]).unique()\n",
    "    driver=GraphDatabase.driver(uri, auth=(user, pwd))\n",
    "    node_query = '''MERGE (n:Animal {sourceGraph:$graph_name, animalNumber:$value})'''\n",
    "    no_weight_query = '''MATCH (n1:Animal {sourceGraph: $graph_name, animalNumber:$col1}), \n",
    "        (n2:Animal {sourceGraph: $graph_name, animalNumber:$col2})\n",
    "        WITH n1, n2\n",
    "        MERGE (n1)-[iw:INTERACTS_WITH]->(n2)\n",
    "    '''\n",
    "    add_weight = ' SET iw.weight = $weight'\n",
    "    with driver.session() as session:\n",
    "        tx= session.begin_transaction()\n",
    "        for node in nodes:\n",
    "            tx.run(node_query, parameters={'graph_name': graph_name, 'value':float(node)})\n",
    "        for index, row in edges_df.iterrows():\n",
    "            merge_query = no_weight_query\n",
    "            params = {'graph_name': graph_name, 'col1':float(row[0]), 'col2':float(row[1])}\n",
    "            if row.size == 3:\n",
    "                merge_query += add_weight\n",
    "                params['weight'] = float(row[2])\n",
    "            tx.run(merge_query, parameters=params)\n",
    "        tx.commit()\n",
    "    print(f'Loaded {edges_df.shape[0]} rows from {download_dir}')"
   ]
  },
  {
   "cell_type": "markdown",
   "metadata": {},
   "source": [
    "### Get the list of all graph names from http://networkrepository.com/asn.php"
   ]
  },
  {
   "cell_type": "code",
   "execution_count": 4,
   "metadata": {},
   "outputs": [],
   "source": [
    "repos_df = pd.read_html('http://networkrepository.com/asn.php')[0]"
   ]
  },
  {
   "cell_type": "code",
   "execution_count": 5,
   "metadata": {},
   "outputs": [
    {
     "data": {
      "text/plain": [
       "0      aves-barn-swallow-contact-network\n",
       "1         aves-barn-swallow-non-physical\n",
       "2             aves-geese-female-foraging\n",
       "3               aves-geese-male-foraging\n",
       "4                aves-hens-pecking-order\n",
       "                     ...                \n",
       "811    reptilia-tortoise-network-sg-2000\n",
       "812         reptilia-tortoise-network-sg\n",
       "813    reptilia-tortoise-network-sl-2012\n",
       "814    reptilia-tortoise-network-sl-2013\n",
       "815         reptilia-tortoise-network-sl\n",
       "Name: Graph Name, Length: 816, dtype: object"
      ]
     },
     "execution_count": 5,
     "metadata": {},
     "output_type": "execute_result"
    }
   ],
   "source": [
    "repos_df['Graph Name']"
   ]
  },
  {
   "cell_type": "markdown",
   "metadata": {},
   "source": [
    "### Set constants for the environment"
   ]
  },
  {
   "cell_type": "markdown",
   "metadata": {},
   "source": [
    "Data will be downloaded to a directory called Data in the same location as this notebook."
   ]
  },
  {
   "cell_type": "code",
   "execution_count": 6,
   "metadata": {},
   "outputs": [],
   "source": [
    "data_dir = Path.cwd().joinpath('Data')"
   ]
  },
  {
   "cell_type": "code",
   "execution_count": 7,
   "metadata": {},
   "outputs": [
    {
     "name": "stdout",
     "output_type": "stream",
     "text": [
      "Neo4j password········\n"
     ]
    }
   ],
   "source": [
    "pwd = getpass.getpass(\"Neo4j password\")"
   ]
  },
  {
   "cell_type": "markdown",
   "metadata": {},
   "source": [
    "### Load a single network"
   ]
  },
  {
   "cell_type": "markdown",
   "metadata": {},
   "source": [
    "Load the vampire bats foodsharing graph as an example"
   ]
  },
  {
   "cell_type": "code",
   "execution_count": 8,
   "metadata": {},
   "outputs": [],
   "source": [
    "vampire_bats = 'mammalia-vampire-bats-foodsharing'"
   ]
  },
  {
   "cell_type": "code",
   "execution_count": 9,
   "metadata": {},
   "outputs": [
    {
     "name": "stdout",
     "output_type": "stream",
     "text": [
      "Downloaded mammalia-vampire-bats-foodsharing to C:\\Users\\smithnathana\\Documents\\Animal_Networks\\Data\\mammalia-vampire-bats-foodsharing\n",
      "Loaded 72 rows from C:\\Users\\smithnathana\\Documents\\Animal_Networks\\Data\\mammalia-vampire-bats-foodsharing\n"
     ]
    }
   ],
   "source": [
    "download_dir = download_data(vampire_bats, data_dir)\n",
    "load_neo4j(vampire_bats, download_dir, 'neo4j:\\\\localhost:7678', 'neo4j', pwd)"
   ]
  },
  {
   "cell_type": "markdown",
   "metadata": {},
   "source": [
    "### Load the first 20 animal networks"
   ]
  },
  {
   "cell_type": "code",
   "execution_count": 10,
   "metadata": {},
   "outputs": [
    {
     "name": "stdout",
     "output_type": "stream",
     "text": [
      "Downloaded aves-barn-swallow-contact-network to C:\\Users\\smithnathana\\Documents\\Animal_Networks\\Data\\aves-barn-swallow-contact-network\n",
      "Loaded 53 rows from C:\\Users\\smithnathana\\Documents\\Animal_Networks\\Data\\aves-barn-swallow-contact-network\n",
      "Downloaded aves-barn-swallow-non-physical to C:\\Users\\smithnathana\\Documents\\Animal_Networks\\Data\\aves-barn-swallow-non-physical\n",
      "Loaded 122 rows from C:\\Users\\smithnathana\\Documents\\Animal_Networks\\Data\\aves-barn-swallow-non-physical\n",
      "Downloaded aves-geese-female-foraging to C:\\Users\\smithnathana\\Documents\\Animal_Networks\\Data\\aves-geese-female-foraging\n",
      "Loaded 190 rows from C:\\Users\\smithnathana\\Documents\\Animal_Networks\\Data\\aves-geese-female-foraging\n",
      "Downloaded aves-geese-male-foraging to C:\\Users\\smithnathana\\Documents\\Animal_Networks\\Data\\aves-geese-male-foraging\n",
      "Loaded 253 rows from C:\\Users\\smithnathana\\Documents\\Animal_Networks\\Data\\aves-geese-male-foraging\n",
      "Downloaded aves-hens-pecking-order to C:\\Users\\smithnathana\\Documents\\Animal_Networks\\Data\\aves-hens-pecking-order\n",
      "Loaded 496 rows from C:\\Users\\smithnathana\\Documents\\Animal_Networks\\Data\\aves-hens-pecking-order\n",
      "Downloaded aves-songbird-social to C:\\Users\\smithnathana\\Documents\\Animal_Networks\\Data\\aves-songbird-social\n",
      "Loaded 1027 rows from C:\\Users\\smithnathana\\Documents\\Animal_Networks\\Data\\aves-songbird-social\n",
      "Downloaded aves-sparrow-social-2009 to C:\\Users\\smithnathana\\Documents\\Animal_Networks\\Data\\aves-sparrow-social-2009\n",
      "Loaded 211 rows from C:\\Users\\smithnathana\\Documents\\Animal_Networks\\Data\\aves-sparrow-social-2009\n",
      "Downloaded aves-sparrow-social-2010 to C:\\Users\\smithnathana\\Documents\\Animal_Networks\\Data\\aves-sparrow-social-2010\n",
      "Loaded 305 rows from C:\\Users\\smithnathana\\Documents\\Animal_Networks\\Data\\aves-sparrow-social-2010\n",
      "Downloaded aves-sparrow-social to C:\\Users\\smithnathana\\Documents\\Animal_Networks\\Data\\aves-sparrow-social\n",
      "Loaded 516 rows from C:\\Users\\smithnathana\\Documents\\Animal_Networks\\Data\\aves-sparrow-social\n",
      "Downloaded aves-sparrowlyon-flock-season2 to C:\\Users\\smithnathana\\Documents\\Animal_Networks\\Data\\aves-sparrowlyon-flock-season2\n",
      "Loaded 348 rows from C:\\Users\\smithnathana\\Documents\\Animal_Networks\\Data\\aves-sparrowlyon-flock-season2\n",
      "Downloaded aves-sparrowlyon-flock-season3 to C:\\Users\\smithnathana\\Documents\\Animal_Networks\\Data\\aves-sparrowlyon-flock-season3\n",
      "Loaded 164 rows from C:\\Users\\smithnathana\\Documents\\Animal_Networks\\Data\\aves-sparrowlyon-flock-season3\n",
      "Downloaded aves-thornbill-farine to C:\\Users\\smithnathana\\Documents\\Animal_Networks\\Data\\aves-thornbill-farine\n",
      "Loaded 1151 rows from C:\\Users\\smithnathana\\Documents\\Animal_Networks\\Data\\aves-thornbill-farine\n",
      "Downloaded aves-weaver-social-00 to C:\\Users\\smithnathana\\Documents\\Animal_Networks\\Data\\aves-weaver-social-00\n",
      "Loaded 28 rows from C:\\Users\\smithnathana\\Documents\\Animal_Networks\\Data\\aves-weaver-social-00\n",
      "Downloaded aves-weaver-social-01 to C:\\Users\\smithnathana\\Documents\\Animal_Networks\\Data\\aves-weaver-social-01\n",
      "Loaded 12 rows from C:\\Users\\smithnathana\\Documents\\Animal_Networks\\Data\\aves-weaver-social-01\n",
      "Downloaded aves-weaver-social-02 to C:\\Users\\smithnathana\\Documents\\Animal_Networks\\Data\\aves-weaver-social-02\n",
      "Loaded 10 rows from C:\\Users\\smithnathana\\Documents\\Animal_Networks\\Data\\aves-weaver-social-02\n",
      "Downloaded aves-weaver-social-03 to C:\\Users\\smithnathana\\Documents\\Animal_Networks\\Data\\aves-weaver-social-03\n",
      "Loaded 152 rows from C:\\Users\\smithnathana\\Documents\\Animal_Networks\\Data\\aves-weaver-social-03\n",
      "Downloaded aves-weaver-social-04 to C:\\Users\\smithnathana\\Documents\\Animal_Networks\\Data\\aves-weaver-social-04\n",
      "Loaded 27 rows from C:\\Users\\smithnathana\\Documents\\Animal_Networks\\Data\\aves-weaver-social-04\n",
      "Downloaded aves-weaver-social-05 to C:\\Users\\smithnathana\\Documents\\Animal_Networks\\Data\\aves-weaver-social-05\n",
      "Loaded 19 rows from C:\\Users\\smithnathana\\Documents\\Animal_Networks\\Data\\aves-weaver-social-05\n",
      "Downloaded aves-weaver-social-06 to C:\\Users\\smithnathana\\Documents\\Animal_Networks\\Data\\aves-weaver-social-06\n",
      "Loaded 64 rows from C:\\Users\\smithnathana\\Documents\\Animal_Networks\\Data\\aves-weaver-social-06\n",
      "Downloaded aves-weaver-social-07 to C:\\Users\\smithnathana\\Documents\\Animal_Networks\\Data\\aves-weaver-social-07\n",
      "Loaded 10 rows from C:\\Users\\smithnathana\\Documents\\Animal_Networks\\Data\\aves-weaver-social-07\n"
     ]
    }
   ],
   "source": [
    "for graph_name in repos_df['Graph Name'][:20]:\n",
    "    download_dir = download_data(graph_name, data_dir)\n",
    "    load_neo4j(graph_name, download_dir, 'neo4j:\\\\localhost:7678', 'neo4j', pwd)"
   ]
  }
 ],
 "metadata": {
  "kernelspec": {
   "display_name": "Python 3",
   "language": "python",
   "name": "python3"
  },
  "language_info": {
   "codemirror_mode": {
    "name": "ipython",
    "version": 3
   },
   "file_extension": ".py",
   "mimetype": "text/x-python",
   "name": "python",
   "nbconvert_exporter": "python",
   "pygments_lexer": "ipython3",
   "version": "3.7.4"
  }
 },
 "nbformat": 4,
 "nbformat_minor": 4
}
